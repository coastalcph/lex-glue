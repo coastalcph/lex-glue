{
 "cells": [
  {
   "cell_type": "code",
   "execution_count": 29,
   "id": "d2c4d357",
   "metadata": {},
   "outputs": [],
   "source": [
    "from datasets import load_dataset\n",
    "from transformers import BertTokenizer\n",
    "from datasets import DatasetDict\n",
    "import numpy as np\n",
    "# Instantiate a tokenizer\n",
    "tokenizer = BertTokenizer.from_pretrained('bert-base-uncased')\n",
    "from sklearn.model_selection import train_test_split\n",
    "from transformers import AutoTokenizer, AutoModelForMaskedLM"
   ]
  },
  {
   "cell_type": "code",
   "execution_count": 3,
   "id": "9883be15",
   "metadata": {},
   "outputs": [
    {
     "name": "stderr",
     "output_type": "stream",
     "text": [
      "Using custom data configuration default-2828371e2f74ebe3\n",
      "Found cached dataset csv (/home/ghan/.cache/huggingface/datasets/csv/default-2828371e2f74ebe3/0.0.0/6b34fb8fcf56f7c8ba51dc895bfa2bfbe43546f190a60fcf74bb5e8afdcc2317)\n"
     ]
    },
    {
     "data": {
      "application/vnd.jupyter.widget-view+json": {
       "model_id": "40713b35fe3542c0a7fa5be1680136e5",
       "version_major": 2,
       "version_minor": 0
      },
      "text/plain": [
       "  0%|          | 0/1 [00:00<?, ?it/s]"
      ]
     },
     "metadata": {},
     "output_type": "display_data"
    },
    {
     "name": "stderr",
     "output_type": "stream",
     "text": [
      "Using custom data configuration default-6249d4195201014c\n",
      "Found cached dataset csv (/home/ghan/.cache/huggingface/datasets/csv/default-6249d4195201014c/0.0.0/6b34fb8fcf56f7c8ba51dc895bfa2bfbe43546f190a60fcf74bb5e8afdcc2317)\n"
     ]
    },
    {
     "data": {
      "application/vnd.jupyter.widget-view+json": {
       "model_id": "6c501fc1854c4a6384de9d292c7e4077",
       "version_major": 2,
       "version_minor": 0
      },
      "text/plain": [
       "  0%|          | 0/1 [00:00<?, ?it/s]"
      ]
     },
     "metadata": {},
     "output_type": "display_data"
    },
    {
     "name": "stderr",
     "output_type": "stream",
     "text": [
      "Using custom data configuration default-b097882698f56793\n",
      "Found cached dataset csv (/home/ghan/.cache/huggingface/datasets/csv/default-b097882698f56793/0.0.0/6b34fb8fcf56f7c8ba51dc895bfa2bfbe43546f190a60fcf74bb5e8afdcc2317)\n"
     ]
    },
    {
     "data": {
      "application/vnd.jupyter.widget-view+json": {
       "model_id": "3205c15a0ca24f9e9be67951948bdd52",
       "version_major": 2,
       "version_minor": 0
      },
      "text/plain": [
       "  0%|          | 0/1 [00:00<?, ?it/s]"
      ]
     },
     "metadata": {},
     "output_type": "display_data"
    }
   ],
   "source": [
    "train_dataset = load_dataset(\"csv\", data_files=\"/home/ghan/caml-mimic-fixed-/mimicdata/mimic3/train_50.csv\")\n",
    "eval_dataset = load_dataset(\"csv\", data_files=\"/home/ghan/caml-mimic-fixed-/mimicdata/mimic3/dev_50.csv\")\n",
    "predict_dataset = load_dataset(\"csv\", data_files=\"/home/ghan/caml-mimic-fixed-/mimicdata/mimic3/test_50.csv\")"
   ]
  },
  {
   "cell_type": "code",
   "execution_count": 6,
   "id": "ede163fc",
   "metadata": {},
   "outputs": [
    {
     "data": {
      "text/plain": [
       "Dataset({\n",
       "    features: ['SUBJECT_ID', 'HADM_ID', 'TEXT', 'LABELS', 'length'],\n",
       "    num_rows: 8066\n",
       "})"
      ]
     },
     "execution_count": 6,
     "metadata": {},
     "output_type": "execute_result"
    }
   ],
   "source": [
    "train_dataset['train']"
   ]
  },
  {
   "cell_type": "code",
   "execution_count": 12,
   "id": "39767512",
   "metadata": {},
   "outputs": [],
   "source": [
    "def encode(examples):\n",
    "    encoded = tokenizer(examples['TEXT'])\n",
    "    examples['length'] = len(encoded['input_ids'])\n",
    "    return examples"
   ]
  },
  {
   "cell_type": "code",
   "execution_count": 18,
   "id": "520436d8",
   "metadata": {},
   "outputs": [
    {
     "data": {
      "application/vnd.jupyter.widget-view+json": {
       "model_id": "dd7be85c8d1b4bdfb69ea7e84795e8dc",
       "version_major": 2,
       "version_minor": 0
      },
      "text/plain": [
       "  0%|          | 0/1729 [00:00<?, ?ex/s]"
      ]
     },
     "metadata": {},
     "output_type": "display_data"
    }
   ],
   "source": [
    "predict_dataset = predict_dataset.map(encode)"
   ]
  },
  {
   "cell_type": "code",
   "execution_count": 19,
   "id": "2ea54530",
   "metadata": {},
   "outputs": [
    {
     "data": {
      "application/vnd.jupyter.widget-view+json": {
       "model_id": "b1c390e86b364706a56b382a8093258c",
       "version_major": 2,
       "version_minor": 0
      },
      "text/plain": [
       "  0%|          | 0/1573 [00:00<?, ?ex/s]"
      ]
     },
     "metadata": {},
     "output_type": "display_data"
    }
   ],
   "source": [
    "eval_dataset = eval_dataset.map(encode)"
   ]
  },
  {
   "cell_type": "code",
   "execution_count": 20,
   "id": "79d89a18",
   "metadata": {},
   "outputs": [
    {
     "data": {
      "application/vnd.jupyter.widget-view+json": {
       "model_id": "53194e05f61543208817bb27797bce02",
       "version_major": 2,
       "version_minor": 0
      },
      "text/plain": [
       "  0%|          | 0/8066 [00:00<?, ?ex/s]"
      ]
     },
     "metadata": {},
     "output_type": "display_data"
    }
   ],
   "source": [
    "train_dataset = train_dataset.map(encode)"
   ]
  },
  {
   "cell_type": "code",
   "execution_count": 34,
   "id": "55f62e57",
   "metadata": {},
   "outputs": [
    {
     "data": {
      "text/plain": [
       "1626"
      ]
     },
     "execution_count": 34,
     "metadata": {},
     "output_type": "execute_result"
    }
   ],
   "source": [
    "train_dataset['train']['length'][-5000]"
   ]
  },
  {
   "cell_type": "code",
   "execution_count": 26,
   "id": "3c162247",
   "metadata": {},
   "outputs": [
    {
     "data": {
      "text/plain": [
       "1573"
      ]
     },
     "execution_count": 26,
     "metadata": {},
     "output_type": "execute_result"
    }
   ],
   "source": [
    "eval_dataset['train']['length']"
   ]
  },
  {
   "cell_type": "code",
   "execution_count": 23,
   "id": "bda79858",
   "metadata": {},
   "outputs": [],
   "source": [
    "lengths=train_dataset['train']['length']+predict_dataset['train']['length']+eval_dataset['train']['length']"
   ]
  },
  {
   "cell_type": "code",
   "execution_count": 27,
   "id": "bdab0a2d",
   "metadata": {},
   "outputs": [
    {
     "data": {
      "text/plain": [
       "11368"
      ]
     },
     "execution_count": 27,
     "metadata": {},
     "output_type": "execute_result"
    }
   ],
   "source": [
    "len(lengths)"
   ]
  },
  {
   "cell_type": "code",
   "execution_count": 30,
   "id": "3d1953f5",
   "metadata": {},
   "outputs": [],
   "source": [
    "quartiles = np.percentile(lengths, [25, 50, 75])"
   ]
  },
  {
   "cell_type": "code",
   "execution_count": 31,
   "id": "1d3d5bf2",
   "metadata": {},
   "outputs": [
    {
     "data": {
      "text/plain": [
       "array([1432.  , 2022.  , 2741.25])"
      ]
     },
     "execution_count": 31,
     "metadata": {},
     "output_type": "execute_result"
    }
   ],
   "source": [
    "quartiles"
   ]
  },
  {
   "cell_type": "code",
   "execution_count": 37,
   "id": "3338e6f2",
   "metadata": {},
   "outputs": [
    {
     "data": {
      "application/vnd.jupyter.widget-view+json": {
       "model_id": "cdba9c5377414998834d0cb1055ed2a3",
       "version_major": 2,
       "version_minor": 0
      },
      "text/plain": [
       "  0%|          | 0/8066 [00:00<?, ?ex/s]"
      ]
     },
     "metadata": {},
     "output_type": "display_data"
    },
    {
     "data": {
      "application/vnd.jupyter.widget-view+json": {
       "model_id": "043ab5c579ca4659b1e176a68387433f",
       "version_major": 2,
       "version_minor": 0
      },
      "text/plain": [
       "  0%|          | 0/1729 [00:00<?, ?ex/s]"
      ]
     },
     "metadata": {},
     "output_type": "display_data"
    },
    {
     "data": {
      "application/vnd.jupyter.widget-view+json": {
       "model_id": "6e08c7d54ea44d7a8d705d9ac5d0d7d7",
       "version_major": 2,
       "version_minor": 0
      },
      "text/plain": [
       "  0%|          | 0/1573 [00:00<?, ?ex/s]"
      ]
     },
     "metadata": {},
     "output_type": "display_data"
    }
   ],
   "source": [
    "def add_length_feature(examples):\n",
    "\n",
    "    length=examples['length']\n",
    "    if length <= quartiles[0]:\n",
    "        length_feature=1\n",
    "    elif length <= quartiles[1]:\n",
    "        length_feature=2\n",
    "    elif length <= quartiles[2]:\n",
    "        length_feature=3\n",
    "    else:\n",
    "        length_feature=4\n",
    "    examples['length_feature'] = length_feature\n",
    "    return examples\n",
    "\n",
    "train_dataset = train_dataset['train'].map(add_length_feature)\n",
    "predict_dataset = predict_dataset['train'].map(add_length_feature)\n",
    "eval_dataset = eval_dataset['train'].map(add_length_feature)"
   ]
  },
  {
   "cell_type": "code",
   "execution_count": 41,
   "id": "fc40a02a",
   "metadata": {},
   "outputs": [
    {
     "data": {
      "text/plain": [
       "Dataset({\n",
       "    features: ['SUBJECT_ID', 'HADM_ID', 'TEXT', 'LABELS', 'length', 'length_feature'],\n",
       "    num_rows: 8066\n",
       "})"
      ]
     },
     "execution_count": 41,
     "metadata": {},
     "output_type": "execute_result"
    }
   ],
   "source": [
    "train_dataset"
   ]
  },
  {
   "cell_type": "code",
   "execution_count": null,
   "id": "917ed4aa",
   "metadata": {},
   "outputs": [],
   "source": [
    "train_df = train_dataset.to_pandas()\n",
    "eval_df=eval_dataset.to_pandas()\n",
    "predict_df=predict_dataset.to_pandas()"
   ]
  },
  {
   "cell_type": "code",
   "execution_count": null,
   "id": "045417bd",
   "metadata": {},
   "outputs": [],
   "source": [
    "train_df.to_json(\"/home/ghan/datasets/mimic_train50.json\", orient=\"records\", lines=True)\n",
    "eval_df.to_json(\"/home/ghan/datasets/mimic_dev50.json\", orient=\"records\", lines=True)\n",
    "predict_df.to_json(\"/home/ghan/datasets/mimic_test50.json\", orient=\"records\", lines=True)"
   ]
  }
 ],
 "metadata": {
  "kernelspec": {
   "display_name": "Python 3 (ipykernel)",
   "language": "python",
   "name": "python3"
  },
  "language_info": {
   "codemirror_mode": {
    "name": "ipython",
    "version": 3
   },
   "file_extension": ".py",
   "mimetype": "text/x-python",
   "name": "python",
   "nbconvert_exporter": "python",
   "pygments_lexer": "ipython3",
   "version": "3.7.16"
  }
 },
 "nbformat": 4,
 "nbformat_minor": 5
}
