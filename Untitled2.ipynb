{
 "cells": [
  {
   "cell_type": "code",
   "execution_count": 1,
   "id": "5b7c374b",
   "metadata": {},
   "outputs": [],
   "source": [
    "import torch"
   ]
  },
  {
   "cell_type": "code",
   "execution_count": 2,
   "id": "533d4132",
   "metadata": {},
   "outputs": [],
   "source": [
    "\n",
    "seg_positions = torch.arange(1, 11)"
   ]
  },
  {
   "cell_type": "code",
   "execution_count": 3,
   "id": "e303e7db",
   "metadata": {},
   "outputs": [],
   "source": [
    "\n",
    "seg_positions*=2"
   ]
  },
  {
   "cell_type": "code",
   "execution_count": 5,
   "id": "7a25d4cb",
   "metadata": {},
   "outputs": [],
   "source": [
    "seg_positions-=1"
   ]
  },
  {
   "cell_type": "code",
   "execution_count": 6,
   "id": "d1d35ea9",
   "metadata": {},
   "outputs": [
    {
     "data": {
      "text/plain": [
       "tensor([ 1,  3,  5,  7,  9, 11, 13, 15, 17, 19])"
      ]
     },
     "execution_count": 6,
     "metadata": {},
     "output_type": "execute_result"
    }
   ],
   "source": [
    "seg_positions"
   ]
  },
  {
   "cell_type": "code",
   "execution_count": null,
   "id": "6178e8df",
   "metadata": {},
   "outputs": [],
   "source": []
  }
 ],
 "metadata": {
  "kernelspec": {
   "display_name": "Python 3 (ipykernel)",
   "language": "python",
   "name": "python3"
  },
  "language_info": {
   "codemirror_mode": {
    "name": "ipython",
    "version": 3
   },
   "file_extension": ".py",
   "mimetype": "text/x-python",
   "name": "python",
   "nbconvert_exporter": "python",
   "pygments_lexer": "ipython3",
   "version": "3.7.16"
  }
 },
 "nbformat": 4,
 "nbformat_minor": 5
}
